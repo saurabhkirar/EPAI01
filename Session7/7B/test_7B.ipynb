{
 "cells": [
  {
   "cell_type": "code",
   "execution_count": 1,
   "metadata": {},
   "outputs": [],
   "source": [
    "import module1\n",
    "import module2"
   ]
  },
  {
   "cell_type": "code",
   "execution_count": 2,
   "metadata": {},
   "outputs": [],
   "source": [
    "#testing for objective1\n",
    "reg_polygon = module1.RegularPolygon(3,5)"
   ]
  },
  {
   "cell_type": "code",
   "execution_count": 3,
   "metadata": {},
   "outputs": [
    {
     "data": {
      "text/plain": [
       "['__class__',\n",
       " '__delattr__',\n",
       " '__dict__',\n",
       " '__dir__',\n",
       " '__doc__',\n",
       " '__eq__',\n",
       " '__format__',\n",
       " '__ge__',\n",
       " '__getattribute__',\n",
       " '__gt__',\n",
       " '__hash__',\n",
       " '__init__',\n",
       " '__init_subclass__',\n",
       " '__le__',\n",
       " '__lt__',\n",
       " '__module__',\n",
       " '__ne__',\n",
       " '__new__',\n",
       " '__reduce__',\n",
       " '__reduce_ex__',\n",
       " '__repr__',\n",
       " '__setattr__',\n",
       " '__sizeof__',\n",
       " '__str__',\n",
       " '__subclasshook__',\n",
       " '__weakref__',\n",
       " '_circumradius',\n",
       " '_edge',\n",
       " 'apothem',\n",
       " 'area',\n",
       " 'circumradius',\n",
       " 'edge',\n",
       " 'edge_length',\n",
       " 'interior_angle',\n",
       " 'perimeter']"
      ]
     },
     "execution_count": 3,
     "metadata": {},
     "output_type": "execute_result"
    }
   ],
   "source": [
    "dir(reg_polygon)"
   ]
  },
  {
   "cell_type": "code",
   "execution_count": 4,
   "metadata": {},
   "outputs": [],
   "source": [
    "a = [(i,getattr(reg_polygon,i)) for i in dir(reg_polygon) if not i.startswith('_')]"
   ]
  },
  {
   "cell_type": "code",
   "execution_count": 5,
   "metadata": {},
   "outputs": [
    {
     "name": "stdout",
     "output_type": "stream",
     "text": [
      "Polygon: edge=3, circumradius=5\n"
     ]
    }
   ],
   "source": [
    "#test to check repr of module1\n",
    "print(reg_polygon)"
   ]
  },
  {
   "cell_type": "code",
   "execution_count": 6,
   "metadata": {},
   "outputs": [
    {
     "name": "stdout",
     "output_type": "stream",
     "text": [
      "True\n",
      "False\n"
     ]
    }
   ],
   "source": [
    "#test to check equlaity for module1 class objects\n",
    "reg_polygon2 = module1.RegularPolygon(3,5)\n",
    "print(reg_polygon == reg_polygon2)\n",
    "reg_polygon3 = module1.RegularPolygon(4,5)\n",
    "print(reg_polygon == reg_polygon3)"
   ]
  },
  {
   "cell_type": "code",
   "execution_count": 7,
   "metadata": {},
   "outputs": [
    {
     "data": {
      "text/plain": [
       "'first object is greater than second object'"
      ]
     },
     "execution_count": 7,
     "metadata": {},
     "output_type": "execute_result"
    }
   ],
   "source": [
    "#test to check gt for module1 class objects\n",
    "reg_polygon3 > reg_polygon"
   ]
  },
  {
   "cell_type": "code",
   "execution_count": 8,
   "metadata": {},
   "outputs": [],
   "source": [
    "f = module2.RegularPolygonCustomSequence(25,5)"
   ]
  },
  {
   "cell_type": "code",
   "execution_count": 9,
   "metadata": {},
   "outputs": [
    {
     "data": {
      "text/plain": [
       "[0,\n",
       " 0,\n",
       " 0.0,\n",
       " 1.25,\n",
       " 1.76777,\n",
       " 2.02254,\n",
       " 2.16506,\n",
       " 2.25242,\n",
       " 2.3097,\n",
       " 2.34923,\n",
       " 2.37764,\n",
       " 2.39873,\n",
       " 2.41481,\n",
       " 2.42735,\n",
       " 2.43732,\n",
       " 2.44537,\n",
       " 2.45196,\n",
       " 2.45743,\n",
       " 2.46202,\n",
       " 2.4659,\n",
       " 2.46922,\n",
       " 2.47208,\n",
       " 2.47455,\n",
       " 2.47671,\n",
       " 2.47861,\n",
       " 2.48029]"
      ]
     },
     "execution_count": 9,
     "metadata": {},
     "output_type": "execute_result"
    }
   ],
   "source": [
    "list(f)"
   ]
  },
  {
   "cell_type": "markdown",
   "metadata": {},
   "source": [
    "f._max_eff(list(f)"
   ]
  },
  {
   "cell_type": "code",
   "execution_count": 10,
   "metadata": {},
   "outputs": [
    {
     "data": {
      "text/plain": [
       "' The Maximum ratio is for the Polygon 25 and the ratio is 2.48029'"
      ]
     },
     "execution_count": 10,
     "metadata": {},
     "output_type": "execute_result"
    }
   ],
   "source": [
    "f._max_eff(list(f))"
   ]
  },
  {
   "cell_type": "code",
   "execution_count": null,
   "metadata": {},
   "outputs": [],
   "source": []
  }
 ],
 "metadata": {
  "kernelspec": {
   "display_name": "Python 3",
   "language": "python",
   "name": "python3"
  },
  "language_info": {
   "codemirror_mode": {
    "name": "ipython",
    "version": 3
   },
   "file_extension": ".py",
   "mimetype": "text/x-python",
   "name": "python",
   "nbconvert_exporter": "python",
   "pygments_lexer": "ipython3",
   "version": "3.7.6"
  }
 },
 "nbformat": 4,
 "nbformat_minor": 4
}
