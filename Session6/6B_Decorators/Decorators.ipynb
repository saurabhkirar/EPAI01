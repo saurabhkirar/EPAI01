{
  "nbformat": 4,
  "nbformat_minor": 0,
  "metadata": {
    "colab": {
      "name": "Decorators.ipynb",
      "provenance": [],
      "authorship_tag": "ABX9TyMgfHJGe/n8ym6MwrT63IzB",
      "include_colab_link": true
    },
    "kernelspec": {
      "name": "python3",
      "display_name": "Python 3"
    },
    "language_info": {
      "name": "python"
    }
  },
  "cells": [
    {
      "cell_type": "markdown",
      "metadata": {
        "id": "view-in-github",
        "colab_type": "text"
      },
      "source": [
        "<a href=\"https://colab.research.google.com/github/saurabhkirar/EPAI01/blob/main/Session6/6B_Decorators/Decorators.ipynb\" target=\"_parent\"><img src=\"https://colab.research.google.com/assets/colab-badge.svg\" alt=\"Open In Colab\"/></a>"
      ]
    },
    {
      "cell_type": "markdown",
      "metadata": {
        "id": "DBaOvhVMPFxR"
      },
      "source": [
        "Declare the variables and the libraries that will be shared"
      ]
    },
    {
      "cell_type": "code",
      "metadata": {
        "id": "gAg2Gv8xPEgs"
      },
      "source": [
        "from functools import wraps\n",
        "from datetime import datetime\n",
        "logger_dict=dict()\n",
        "from  time import perf_counter"
      ],
      "execution_count": 48,
      "outputs": []
    },
    {
      "cell_type": "markdown",
      "metadata": {
        "id": "Gmalf-Yn1LdR"
      },
      "source": [
        "This is the notebook for decorators, we will write the decortors for the following"
      ]
    },
    {
      "cell_type": "markdown",
      "metadata": {
        "id": "IVDFyIcd1QH_"
      },
      "source": [
        "Q1 allows a function to run only on odd seconds "
      ]
    },
    {
      "cell_type": "code",
      "metadata": {
        "id": "SDoILZ5g7_kS"
      },
      "source": [
        "def func_factory_outer(chk):\n",
        "  '''This is an outer enclosure as we cant pass any argument to the closure'''\n",
        "  def deco_odd_fn(fn):\n",
        "    '''This is the outer function which will be used by the calling \n",
        "    environment'''\n",
        "    @wraps(fn)\n",
        "    def inner(*args,**kwargs):\n",
        "      ''' This is the inner function which will be executed'''\n",
        "      res=fn(*args,**kwargs) if chk==True else 'Error,cant run the function'\n",
        "      '''Run the function with paramenters if the check is pass else throw an error'''\n",
        "      return res\n",
        "    return inner\n",
        "  return deco_odd_fn "
      ],
      "execution_count": null,
      "outputs": []
    },
    {
      "cell_type": "code",
      "metadata": {
        "colab": {
          "base_uri": "https://localhost:8080/"
        },
        "id": "ZWCbHY_D2Y6N",
        "outputId": "2e486d93-2cbf-4ea9-a37b-983bfed19843"
      },
      "source": [
        "    ''' Lets test this.'''\n",
        "sec=datetime.now().second\n",
        "chk=False if sec%2==0 else True\n",
        "print(chk)\n",
        "@func_factory_outer(chk)\n",
        "def func_add(*args,**kwrags):\n",
        "  return sum(args)\n",
        "\n",
        "func_add(8,5)"
      ],
      "execution_count": null,
      "outputs": [
        {
          "output_type": "stream",
          "text": [
            "True\n"
          ],
          "name": "stdout"
        },
        {
          "output_type": "execute_result",
          "data": {
            "text/plain": [
              "13"
            ]
          },
          "metadata": {
            "tags": []
          },
          "execution_count": 211
        }
      ]
    },
    {
      "cell_type": "markdown",
      "metadata": {
        "id": "inp-Y9HGB6Kl"
      },
      "source": [
        ""
      ]
    },
    {
      "cell_type": "markdown",
      "metadata": {
        "id": "hLNZYEfsOw4V"
      },
      "source": [
        "Q2 - Write a decorator to log the function"
      ]
    },
    {
      "cell_type": "code",
      "metadata": {
        "id": "4NOhwqbYO0u6"
      },
      "source": [
        "'''This is the outer function that will capture the logging details'''\n",
        "def func_logger(fn):\n",
        "  cnt=0\n",
        "  '''The inner function is a closure'''\n",
        "  @wraps(fn)\n",
        "  def inner_fn(*args,**kwargs):\n",
        "    '''use non local to acccess and change a variable not defined within the function scope'''\n",
        "    nonlocal cnt \n",
        "    cnt+=1\n",
        "    fn_name=fn.__name__\n",
        "    fn_args=args\n",
        "    fn_cnt=cnt\n",
        "    '''This returns the dictionary to track'''\n",
        "    logger_dict[(fn_name,fn_args)]=cnt\n",
        "    return fn(*args,**kwargs) ## this means that the actual function will run.\n",
        "\n",
        "  return inner_fn\n",
        "\n"
      ],
      "execution_count": null,
      "outputs": []
    },
    {
      "cell_type": "code",
      "metadata": {
        "id": "CURQoJjCQY_9"
      },
      "source": [
        "@func_logger\n",
        "def func_add(*args,**kwargs):\n",
        "  return sum(args)"
      ],
      "execution_count": null,
      "outputs": []
    },
    {
      "cell_type": "code",
      "metadata": {
        "colab": {
          "base_uri": "https://localhost:8080/"
        },
        "id": "0JRvy5HUQxFR",
        "outputId": "16509203-aa9a-4194-9324-f8e590a0f8f1"
      },
      "source": [
        "'''The below code will test the function and a logger dictionary is printed\n",
        "Key is a tuple of function name and the agrs where as the value is the count of the function call'''\n",
        "func_add(4,5),func_add(87,6)\n",
        "print(logger_dict)"
      ],
      "execution_count": null,
      "outputs": [
        {
          "output_type": "stream",
          "text": [
            "{('func_add', (4, 5)): 9, ('func_add', (87, 6)): 10}\n"
          ],
          "name": "stdout"
        }
      ]
    },
    {
      "cell_type": "markdown",
      "metadata": {
        "id": "Yisxokg3TOho"
      },
      "source": [
        "Q3 - Write a decorator to authenticate  the user, here assumption is taken for the domain name as gmail.com which means any user who doesnt have the domain addressed should not be allowed to do a specific task.\n",
        "The task is to add two numbers."
      ]
    },
    {
      "cell_type": "code",
      "metadata": {
        "id": "utnd0CdBTpiW"
      },
      "source": [
        "'''lets define an outer function that takes a truth value and this truth value will be preculated to the further elements of the code'''\n",
        "def check_user_auth(chk):\n",
        "  '''lets define a decorator now'''\n",
        "  def func_user_auth(fn):\n",
        "    '''below is the actual function that would be executed'''\n",
        "    def inner_fn(*args,**kwargs):\n",
        "      return fn(*args,**kwargs) if chk==True else 'You are not authorized.'\n",
        "      '''the below returns the closure'''\n",
        "    return inner_fn\n",
        "  '''The below returns the decorator'''\n",
        "  return func_user_auth"
      ],
      "execution_count": 1,
      "outputs": []
    },
    {
      "cell_type": "code",
      "metadata": {
        "id": "PK8BqA-pYoxd"
      },
      "source": [
        "'''now lets test the function'''\n",
        "user_names=['ash@gmail.com','gmail@gmail.com','gmail@yahoo.com','imsrk@srk.com']\n",
        "truth_condition=list((map(fn,user_names)))"
      ],
      "execution_count": 31,
      "outputs": []
    },
    {
      "cell_type": "code",
      "metadata": {
        "colab": {
          "base_uri": "https://localhost:8080/"
        },
        "id": "-oMJGX2bZQ8K",
        "outputId": "d49fd361-1e18-4bbc-9f74-3c1230300ef0"
      },
      "source": [
        "'''now call the decorator factory function and initiate with the truth condition'''\n",
        "for condition in truth_condition:\n",
        "  @check_user_auth(condition)\n",
        "  def test_add(*args,**kwargs):\n",
        "    return sum(args)\n",
        "\n",
        "  print('calling for ',condition)\n",
        "  print(test_add(8,7))"
      ],
      "execution_count": 38,
      "outputs": [
        {
          "output_type": "stream",
          "text": [
            "calling for  True\n",
            "15\n",
            "calling for  True\n",
            "15\n",
            "calling for  False\n",
            "You are not authorized.\n",
            "calling for  False\n",
            "You are not authorized.\n"
          ],
          "name": "stdout"
        }
      ]
    },
    {
      "cell_type": "markdown",
      "metadata": {
        "id": "tYP6raNexXRh"
      },
      "source": [
        "Q4 Write a decorator to time a function."
      ]
    },
    {
      "cell_type": "code",
      "metadata": {
        "id": "07wQm1LDyXwb"
      },
      "source": [
        "'''The below code shows a decorator to time a function, but any function that needs to be evaluated \n",
        "must be evaluated over few iterations and not just the one so we will have a user flexibility for cross calidation \n",
        "and the resut would be the mean time of all the iterations'''\n",
        "def timed(num_reps):\n",
        "   def deco_timed(fn):\n",
        "   \n",
        "    def inner(*args, **kwargs):\n",
        "\n",
        "        '''This is the function which will run value equal to num_reps'''\n",
        "\n",
        "        total_elapsed = 0\n",
        "        for i in range(num_reps):\n",
        "            start = perf_counter()\n",
        "            result = fn(*args, **kwargs)\n",
        "            end = perf_counter()\n",
        "            total_elapsed += (perf_counter() - start)\n",
        "        avg_elapsed = total_elapsed / num_reps\n",
        "        print('Avg Run time: {0:.6f}s ({1} reps)'.format(avg_elapsed,\n",
        "                                                        num_reps))\n",
        "        return result\n",
        "    \n",
        "    return inner\n",
        "\n",
        "   return deco_timed\n"
      ],
      "execution_count": 55,
      "outputs": []
    },
    {
      "cell_type": "code",
      "metadata": {
        "id": "zcNmizWN9OkZ"
      },
      "source": [
        "@timed(5)\n",
        "def test_add(*args,**kwargs):\n",
        "    return sum(args)"
      ],
      "execution_count": 49,
      "outputs": []
    },
    {
      "cell_type": "code",
      "metadata": {
        "colab": {
          "base_uri": "https://localhost:8080/"
        },
        "id": "TGliHKcl-IEl",
        "outputId": "81fdc210-a905-41da-bdfe-3b838c5d1efb"
      },
      "source": [
        "test_add(8,6)"
      ],
      "execution_count": 50,
      "outputs": [
        {
          "output_type": "stream",
          "text": [
            "Avg Run time: 0.000001s (5 reps)\n"
          ],
          "name": "stdout"
        },
        {
          "output_type": "execute_result",
          "data": {
            "text/plain": [
              "14"
            ]
          },
          "metadata": {
            "tags": []
          },
          "execution_count": 50
        }
      ]
    },
    {
      "cell_type": "markdown",
      "metadata": {
        "id": "ps0A32Lr-gGd"
      },
      "source": [
        "Q5. Provides privilege access (has 4 parameters, based on privileges (high, mid, low, no), gives access to all 4, 3, 2 or 1 params)"
      ]
    },
    {
      "cell_type": "code",
      "metadata": {
        "id": "2ZDt9yUf-n4W"
      },
      "source": [
        "\n",
        "def validate_access(p_priv):\n",
        "  def func_arith_deco(fn):\n",
        "    lst=['dummy']\n",
        "    l_append=False\n",
        "    l_modify=False\n",
        "    l_delete=False\n",
        "    def func_arith_sum(*args,**kwargs):\n",
        "      '''get the variables initialized above'''\n",
        "      nonlocal l_append\n",
        "      nonlocal l_modify\n",
        "      nonlocal l_delete\n",
        "      val=[key for key in p_priv.keys()]\n",
        "      print(val[0])\n",
        "      if val[0]=='high':\n",
        "        l_append=True\n",
        "        l_modify=True\n",
        "        l_delete=True\n",
        "      elif val[0]=='mid':\n",
        "        l_append=True\n",
        "        l_modify=True\n",
        "      elif val[0]=='low':\n",
        "        l_append=True\n",
        "      elif val[0]=='no':\n",
        "        l_dummy=True\n",
        "\n",
        "      '''does the append'''\n",
        "      if l_append:\n",
        "        lst.append(fn.__name__) \n",
        "      else :\n",
        "        print('You are not authorize to add anything...')\n",
        "\n",
        "      '''modify the list'''\n",
        "      if l_modify:\n",
        "\n",
        "        lst[0]='modified'\n",
        "      else :\n",
        "        print('You are not authorize to modify  anything...')\n",
        "\n",
        "      '''delete the list'''\n",
        "      if l_delete:\n",
        "        lst.remove(max(lst))\n",
        "        print('You are a super user..')\n",
        "      else :\n",
        "        print('You are not authorize to modify  anything...')\n",
        "\n",
        "     # print(lst)\n",
        "      '''reset the flags'''\n",
        "      l_append=False\n",
        "      l_modify=False\n",
        "      l_delete=False\n",
        "      return lst\n",
        "    \n",
        "    return func_arith_sum\n",
        "\n",
        "  return func_arith_deco\n",
        "\n",
        "\n"
      ],
      "execution_count": 223,
      "outputs": []
    },
    {
      "cell_type": "code",
      "metadata": {
        "id": "QOn0wuT8KVRw"
      },
      "source": [
        "'''\n",
        "1. Make a list of all the operations and the privilages\n",
        "2. Make a pair of priv and the permissible operations\n",
        "3. decorate the test_add function with the facotry function @validate access\n",
        "4. in @validate access pass the pair\n",
        "'''\n",
        "access_list=['Delete','Modify','Add','read only']\n",
        "priv=['high','mid','low','no']\n",
        "pair=dict()\n",
        "for i in range(len(access_list)):\n",
        "  pair[priv[i]]=access_list[i:]\n",
        "a,b=next(iter(pair.items()))\n",
        "@validate_access({a:b})\n",
        "def test_add(*args):\n",
        "  return sum(args)\n",
        "\n"
      ],
      "execution_count": 232,
      "outputs": []
    },
    {
      "cell_type": "code",
      "metadata": {
        "colab": {
          "base_uri": "https://localhost:8080/"
        },
        "id": "2TYOSRk3Pq52",
        "outputId": "f467d818-06f3-427e-9f7c-9c7d546ba383"
      },
      "source": [
        "'''Lets test by calling the function'''\n",
        "test_add(8,6)"
      ],
      "execution_count": 233,
      "outputs": [
        {
          "output_type": "stream",
          "text": [
            "high\n",
            "You are a super user..\n"
          ],
          "name": "stdout"
        },
        {
          "output_type": "execute_result",
          "data": {
            "text/plain": [
              "['modified']"
            ]
          },
          "metadata": {
            "tags": []
          },
          "execution_count": 233
        }
      ]
    },
    {
      "cell_type": "code",
      "metadata": {
        "id": "683USF_5VANY"
      },
      "source": [
        ""
      ],
      "execution_count": 227,
      "outputs": []
    }
  ]
}