{
  "nbformat": 4,
  "nbformat_minor": 0,
  "metadata": {
    "colab": {
      "name": "Session6A_Closures.ipynb",
      "provenance": [],
      "authorship_tag": "ABX9TyMjBR0LqsmTiTBkKJLdE9XU",
      "include_colab_link": true
    },
    "kernelspec": {
      "name": "python3",
      "display_name": "Python 3"
    },
    "language_info": {
      "name": "python"
    }
  },
  "cells": [
    {
      "cell_type": "markdown",
      "metadata": {
        "id": "view-in-github",
        "colab_type": "text"
      },
      "source": [
        "<a href=\"https://colab.research.google.com/github/saurabhkirar/EPAI01/blob/main/Session6/6A_closures/Session6A_Closures.ipynb\" target=\"_parent\"><img src=\"https://colab.research.google.com/assets/colab-badge.svg\" alt=\"Open In Colab\"/></a>"
      ]
    },
    {
      "cell_type": "markdown",
      "metadata": {
        "id": "DooAGGhGrm2M"
      },
      "source": [
        "# The below excercies are Closures hands on "
      ]
    },
    {
      "cell_type": "code",
      "metadata": {
        "id": "qBhQedauSuL7"
      },
      "source": [
        "  '''import all the necessary libraries'''\n",
        "  from functools import reduce"
      ],
      "execution_count": 22,
      "outputs": []
    },
    {
      "cell_type": "code",
      "metadata": {
        "id": "OtCRjoSdqWe_"
      },
      "source": [
        "def f_add(*args,**kwargs):\n",
        "  ''' This is a function to add the values'''\n",
        "  return sum(args)\n",
        "\n",
        "def f_mult(*args,**kwargs):\n",
        "  ''' The below doc srings are repetative for a reason(to check if the lenght exceeds 50)'''\n",
        "  ''' This is a function to add the values'''\n",
        "  ''' This is a function to add the values'''\n",
        "  ''' This is a function to add the values'''\n",
        "  ''' This is a function to add the values'''\n",
        "  ''' This is a function to add the values'''\n",
        "  ''' This is a function to add the values'''\n",
        "  from functools import reduce\n",
        "  return reduce(lambda x1,x2:x1*x2,args,1)\n",
        "\n",
        "def outer(fn):\n",
        "  ''' This is the outer function which can be used as a counter'''\n",
        "  cntr=0\n",
        "  def inner_fn(*args,**kwargs):\n",
        "    ''' Closure definition'''\n",
        "    nonlocal cntr ## non local means a variable defined in the parent function but referred and can be edited by the child.\n",
        "    cntr+=1\n",
        "    print('function',fn,' called ',cntr ,'times')\n",
        "    return fn(*args,**kwargs) ## returning the funtion that means the function wil be executed \n",
        "  return inner_fn\n"
      ],
      "execution_count": 4,
      "outputs": []
    },
    {
      "cell_type": "markdown",
      "metadata": {
        "id": "iUdOjhI1r4-E"
      },
      "source": [
        "Q1 Write a closure that takes a function and then check whether the function passed has a docstring with more than 50 characters. 50 is stored as a free variable - 200"
      ]
    },
    {
      "cell_type": "code",
      "metadata": {
        "id": "-ok9oMa3rLk3"
      },
      "source": [
        "def check_doc_str_fn(fn):\n",
        "  '''This is a function which checks if any function has a length less than 50 or not'''\n",
        "  res='N'\n",
        "  def chk_doc_str(p_len=50):\n",
        "    '''This is a closure defined that will return the result if the given function's doc string is \n",
        "    less than the given lenght if no lenght is provided then 50 is taken as defualt'''\n",
        "    print(p_len)\n",
        "    res=len(fn.__doc__)\n",
        "    return True if res < p_len else False\n",
        "  return chk_doc_str"
      ],
      "execution_count": 5,
      "outputs": []
    },
    {
      "cell_type": "code",
      "metadata": {
        "colab": {
          "base_uri": "https://localhost:8080/"
        },
        "id": "zKZ0J_adrW-8",
        "outputId": "4bd083ae-0bb5-44de-9494-2f01fab0a855"
      },
      "source": [
        "## check for the closures.\n",
        "chk=check_doc_str_fn(f_add) ## initiate a new instance for closure with function add\n",
        "chk2=check_doc_str_fn(f_mult)## initiate a new instance for closure with function mult\n",
        "print(chk(2)) ## here we are overriding the length to be chosen as 2 instead 50 \n",
        "chk2() ## no value given, defaulted to 50"
      ],
      "execution_count": 6,
      "outputs": [
        {
          "output_type": "stream",
          "text": [
            "2\n",
            "False\n",
            "50\n"
          ],
          "name": "stdout"
        },
        {
          "output_type": "execute_result",
          "data": {
            "text/plain": [
              "False"
            ]
          },
          "metadata": {
            "tags": []
          },
          "execution_count": 6
        }
      ]
    },
    {
      "cell_type": "markdown",
      "metadata": {
        "id": "goyay5IJsEgU"
      },
      "source": [
        "Q2 Write a closure that gives you the next Fibonacci number - 100.\n",
        "\n",
        "Fibonacci series -> A series where each number is the sum of two preceeding ones.\n",
        "example \n",
        "5,3,8,11,19,30"
      ]
    },
    {
      "cell_type": "code",
      "metadata": {
        "id": "dY7nIEwysDqD"
      },
      "source": [
        "def fn_fbnc(n1=0,n2=1):\n",
        "  '''\n",
        "  This is a function which will give the Fibonacci series. The function expects two values the first two values would be required to calculate the third value and \n",
        "  after that the function will caluclate on its own.If no values are given then the function will take 0 and 1 as Initial values.\n",
        "  '''\n",
        "  fb_lst=[n1,n2] ## Stores the two values in a list.\n",
        "  def fn_calc_fb_num():\n",
        "\n",
        "    res=fb_lst[-2]+fb_lst[-1] ## take the last two values of the list, could have used reduce function as well.\n",
        "\n",
        "    fb_lst.append(res) ## append the result to the list\n",
        "\n",
        "    return fb_lst ## return the list that will contain the fibonacci number.\n",
        "\n",
        "  return fn_calc_fb_num ## return the closure\n"
      ],
      "execution_count": 65,
      "outputs": []
    },
    {
      "cell_type": "code",
      "metadata": {
        "id": "eMs-eR9mumkQ"
      },
      "source": [
        "fb1=fn_fbnc() ## call the function with defaults \n",
        "fb2=fn_fbnc(2,) ## call the function with the initial value \n",
        "fb3=fn_fbnc(0,4) ## call the function with first two initial values."
      ],
      "execution_count": 83,
      "outputs": []
    },
    {
      "cell_type": "code",
      "metadata": {
        "colab": {
          "base_uri": "https://localhost:8080/"
        },
        "id": "Vo-CrkDRuvGr",
        "outputId": "1a6f7742-6a2f-40c7-f31f-f410401ab76b"
      },
      "source": [
        "fb1()"
      ],
      "execution_count": 75,
      "outputs": [
        {
          "output_type": "execute_result",
          "data": {
            "text/plain": [
              "[0, 1, 1, 2, 3, 5, 8, 13, 21, 34]"
            ]
          },
          "metadata": {
            "tags": []
          },
          "execution_count": 75
        }
      ]
    },
    {
      "cell_type": "code",
      "metadata": {
        "colab": {
          "base_uri": "https://localhost:8080/"
        },
        "id": "m7akumubFFF5",
        "outputId": "6d4d2f09-168a-4bd6-cd8a-145067150dcb"
      },
      "source": [
        "fb2()"
      ],
      "execution_count": 79,
      "outputs": [
        {
          "output_type": "execute_result",
          "data": {
            "text/plain": [
              "[2, 1, 3, 4, 7]"
            ]
          },
          "metadata": {
            "tags": []
          },
          "execution_count": 79
        }
      ]
    },
    {
      "cell_type": "code",
      "metadata": {
        "colab": {
          "base_uri": "https://localhost:8080/"
        },
        "id": "l3owiYWIFlBu",
        "outputId": "1d10c085-e8cd-4903-b2cb-250b815e35d7"
      },
      "source": [
        "fb3()"
      ],
      "execution_count": 85,
      "outputs": [
        {
          "output_type": "execute_result",
          "data": {
            "text/plain": [
              "[0, 4, 4, 8]"
            ]
          },
          "metadata": {
            "tags": []
          },
          "execution_count": 85
        }
      ]
    },
    {
      "cell_type": "markdown",
      "metadata": {
        "id": "pXOQaPxwGalL"
      },
      "source": [
        "We wrote a closure that counts how many times a function was called. Write a new one that can keep a track of how many times add/mul/div functions were called, and update a global dictionary variable with the counts - 50"
      ]
    },
    {
      "cell_type": "code",
      "metadata": {
        "id": "Xv55a371IXAH"
      },
      "source": [
        "def f_add(*args,**kwargs):\n",
        "  ''' This is a function to add the values'''\n",
        "  return sum(args)\n",
        "\n",
        "def f_mult(*args,**kwargs):\n",
        "  ''' The below doc srings are repetative for a reason(to check if the lenght exceeds 50)'''\n",
        "  ''' This is a function to add the values'''\n",
        "  ''' This is a function to add the values'''\n",
        "  ''' This is a function to add the values'''\n",
        "  ''' This is a function to add the values'''\n",
        "  ''' This is a function to add the values'''\n",
        "  ''' This is a function to add the values'''\n",
        "  return reduce(lambda x1,x2:x1*x2,args,1)\n",
        "\n",
        "def f_div(*args,**kwargs):\n",
        "  ''' This func is to divide 2 nums'''\n",
        "  return reduce(lambda x1,x2:x1/x2,args,1)"
      ],
      "execution_count": 4,
      "outputs": []
    },
    {
      "cell_type": "code",
      "metadata": {
        "colab": {
          "base_uri": "https://localhost:8080/"
        },
        "id": "CQHjA2xbA4SY",
        "outputId": "3f738f25-5db5-47f8-9fac-e95af31bcb5c"
      },
      "source": [
        "function_tracker={}\n",
        "print(type(function_tracker))\n",
        "def outer(fn):\n",
        "  ''' This is the outer function which can be used as a counter'''\n",
        "  cntr=0\n",
        "  def inner_fn(*args,**kwargs):\n",
        "    ''' Closure definition'''\n",
        "    nonlocal cntr ## non local means a variable defined in the parent function but referred and can be edited by the child.\n",
        "\n",
        "    cntr+=1\n",
        "   # global function_tracker\n",
        "    function_tracker[fn.__name__]=cntr ## this step will update the key with the latest values.\n",
        "\n",
        "    print('function',fn.__name__,' called ',cntr ,'times')\n",
        "\n",
        "    return fn(*args,**kwargs) ## returning the funtion that means the function wil be executed \n",
        "    \n",
        "  return inner_fn"
      ],
      "execution_count": 18,
      "outputs": [
        {
          "output_type": "stream",
          "text": [
            "<class 'dict'>\n"
          ],
          "name": "stdout"
        }
      ]
    },
    {
      "cell_type": "code",
      "metadata": {
        "colab": {
          "base_uri": "https://localhost:8080/"
        },
        "id": "o1t-Ab1GQPIg",
        "outputId": "fca4a63b-54f3-4f6e-f8ac-d5d34294c7d2"
      },
      "source": [
        "'''\n",
        "The below steps invokes the outer function with the argument as the function (arithmetic tasks in our case)\n",
        "'''\n",
        "adder=outer(f_add)\n",
        "multiplier=outer(f_mult)\n",
        "divi=outer(f_div)\n",
        "for i in range(2,10):\n",
        "  adder(i,i+1),multiplier(i,i+1),divi(i,i+1)"
      ],
      "execution_count": 30,
      "outputs": [
        {
          "output_type": "stream",
          "text": [
            "function f_add  called  1 times\n",
            "function f_mult  called  1 times\n",
            "function f_div  called  1 times\n",
            "function f_add  called  2 times\n",
            "function f_mult  called  2 times\n",
            "function f_div  called  2 times\n",
            "function f_add  called  3 times\n",
            "function f_mult  called  3 times\n",
            "function f_div  called  3 times\n",
            "function f_add  called  4 times\n",
            "function f_mult  called  4 times\n",
            "function f_div  called  4 times\n",
            "function f_add  called  5 times\n",
            "function f_mult  called  5 times\n",
            "function f_div  called  5 times\n",
            "function f_add  called  6 times\n",
            "function f_mult  called  6 times\n",
            "function f_div  called  6 times\n",
            "function f_add  called  7 times\n",
            "function f_mult  called  7 times\n",
            "function f_div  called  7 times\n",
            "function f_add  called  8 times\n",
            "function f_mult  called  8 times\n",
            "function f_div  called  8 times\n"
          ],
          "name": "stdout"
        }
      ]
    },
    {
      "cell_type": "code",
      "metadata": {
        "colab": {
          "base_uri": "https://localhost:8080/"
        },
        "id": "BOemTX45RExt",
        "outputId": "fcd60445-33f6-4a73-c600-da17360c694d"
      },
      "source": [
        "''' \n",
        "Time to check the tracker, the key is the function name and value if the latest count'''\n",
        "print(function_tracker)"
      ],
      "execution_count": 31,
      "outputs": [
        {
          "output_type": "stream",
          "text": [
            "{'f_add': 8, 'f_mult': 8, 'f_div': 8}\n"
          ],
          "name": "stdout"
        }
      ]
    },
    {
      "cell_type": "markdown",
      "metadata": {
        "id": "MFF4PMgLTufI"
      },
      "source": [
        "Q4 Modify above such that now we can pass in different dictionary variables to update different dictionaries - 250"
      ]
    },
    {
      "cell_type": "code",
      "metadata": {
        "id": "yQdKLFJQWgVg"
      },
      "source": [
        "''' Define sample functions'''\n",
        "def add(a, b):\n",
        "    return a + b\n",
        "def mult(a,b, c):\n",
        "    return a*b*c\n",
        "def div(a,b):\n",
        "    return a/b\n"
      ],
      "execution_count": 37,
      "outputs": []
    },
    {
      "cell_type": "code",
      "metadata": {
        "id": "Us8Q6djUXAdX"
      },
      "source": [
        "''' Define the closures and the outer function'''\n",
        "def counter(fn, counters):\n",
        "    cnt = 0  # initially fn has been run zero times\n",
        "    \n",
        "    def inner(*args, **kwargs):\n",
        "        nonlocal cnt\n",
        "        cnt = cnt + 1\n",
        "        counters[fn.__name__] = cnt  # counters is nonlocal\n",
        "        return fn(*args, **kwargs)\n",
        "    \n",
        "    return inner"
      ],
      "execution_count": 38,
      "outputs": []
    },
    {
      "cell_type": "code",
      "metadata": {
        "id": "i65Via4oXImV"
      },
      "source": [
        "'''Initiate the closure instances'''\n",
        "function_tracker_add={}\n",
        "function_tracker_mult={}\n",
        "function_tracker_div={}\n",
        "counted_add = counter(add, function_tracker_add)\n",
        "counted_mult = counter(mult, function_tracker_mult)\n",
        "counted_div = counter(div, function_tracker_div)"
      ],
      "execution_count": 47,
      "outputs": []
    },
    {
      "cell_type": "code",
      "metadata": {
        "colab": {
          "base_uri": "https://localhost:8080/"
        },
        "id": "9itX4OxnXmkx",
        "outputId": "327ce559-1dcd-479b-f4af-d2c97141980c"
      },
      "source": [
        "'''check the closures'''\n",
        "counted_add(4,5)\n",
        "print(function_tracker_add)\n",
        "\n",
        "counted_mult(4,5,4)\n",
        "print(function_tracker_mult)\n",
        "\n",
        "\n",
        "counted_div(4,5)\n",
        "print(function_tracker_div)"
      ],
      "execution_count": 48,
      "outputs": [
        {
          "output_type": "stream",
          "text": [
            "{'add': 1}\n",
            "{'mult': 1}\n",
            "{'div': 1}\n"
          ],
          "name": "stdout"
        }
      ]
    }
  ]
}