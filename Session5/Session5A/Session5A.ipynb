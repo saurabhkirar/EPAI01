{
  "nbformat": 4,
  "nbformat_minor": 0,
  "metadata": {
    "colab": {
      "name": "Session5A.ipynb",
      "provenance": [],
      "authorship_tag": "ABX9TyNNa1G4V2kH06dBehTGKhb2",
      "include_colab_link": true
    },
    "kernelspec": {
      "name": "python3",
      "display_name": "Python 3"
    }
  },
  "cells": [
    {
      "cell_type": "markdown",
      "metadata": {
        "id": "view-in-github",
        "colab_type": "text"
      },
      "source": [
        "<a href=\"https://colab.research.google.com/github/saurabhkirar/EPAI01/blob/main/Session5/Session5A/Session5A.ipynb\" target=\"_parent\"><img src=\"https://colab.research.google.com/assets/colab-badge.svg\" alt=\"Open In Colab\"/></a>"
      ]
    },
    {
      "cell_type": "code",
      "metadata": {
        "id": "jTFjSTWI2WA_"
      },
      "source": [
        "vals = ['2', '3', '4', '5', '6', '7', '8', '9', '10', 'jack', 'queen', 'king', 'ace']\n",
        "suits = ['spades', 'clubs', 'hearts', 'diamonds']\n",
        "royals=['jack', 'queen', 'king', 'ace']"
      ],
      "execution_count": null,
      "outputs": []
    },
    {
      "cell_type": "code",
      "metadata": {
        "id": "JD4Q1JNwtJkq"
      },
      "source": [
        "'''This is an assignment for session5.'''\n",
        "'''The below are the list defined which would be used during the course of the assignments'''\n",
        "vals = ['2', '3', '4', '5', '6', '7', '8', '9', '10', 'jack', 'queen', 'king', 'ace']\n",
        "suits = ['spades', 'clubs', 'hearts', 'diamonds']\n",
        "royals=['jack', 'queen', 'king', 'ace']"
      ],
      "execution_count": null,
      "outputs": []
    },
    {
      "cell_type": "markdown",
      "metadata": {
        "id": "X7-F3nP6e5Ni"
      },
      "source": [
        ""
      ]
    },
    {
      "cell_type": "code",
      "metadata": {
        "id": "oZIAZKVc4y6J"
      },
      "source": [
        "\"\"\"\n",
        "Write a single expression that includes lambda, zip and map functions to select create 52 cards in a deck \n",
        "\"\"\"\n",
        "my_func=lambda x,y: (x*13,y*4)\n",
        "l1,l2=my_func(suits,vals)\n",
        "cards_deck=list(map(lambda z:z,list(zip(l1,l2))))"
      ],
      "execution_count": null,
      "outputs": []
    },
    {
      "cell_type": "code",
      "metadata": {
        "colab": {
          "base_uri": "https://localhost:8080/"
        },
        "id": "c1KTM998PpQg",
        "outputId": "86146181-dec5-4959-ab1e-1ef8f2839e90"
      },
      "source": [
        "cards_deck"
      ],
      "execution_count": null,
      "outputs": [
        {
          "output_type": "execute_result",
          "data": {
            "text/plain": [
              "[('spades', '2'),\n",
              " ('clubs', '3'),\n",
              " ('hearts', '4'),\n",
              " ('diamonds', '5'),\n",
              " ('spades', '6'),\n",
              " ('clubs', '7'),\n",
              " ('hearts', '8'),\n",
              " ('diamonds', '9'),\n",
              " ('spades', '10'),\n",
              " ('clubs', 'jack'),\n",
              " ('hearts', 'queen'),\n",
              " ('diamonds', 'king'),\n",
              " ('spades', 'ace'),\n",
              " ('clubs', '2'),\n",
              " ('hearts', '3'),\n",
              " ('diamonds', '4'),\n",
              " ('spades', '5'),\n",
              " ('clubs', '6'),\n",
              " ('hearts', '7'),\n",
              " ('diamonds', '8'),\n",
              " ('spades', '9'),\n",
              " ('clubs', '10'),\n",
              " ('hearts', 'jack'),\n",
              " ('diamonds', 'queen'),\n",
              " ('spades', 'king'),\n",
              " ('clubs', 'ace'),\n",
              " ('hearts', '2'),\n",
              " ('diamonds', '3'),\n",
              " ('spades', '4'),\n",
              " ('clubs', '5'),\n",
              " ('hearts', '6'),\n",
              " ('diamonds', '7'),\n",
              " ('spades', '8'),\n",
              " ('clubs', '9'),\n",
              " ('hearts', '10'),\n",
              " ('diamonds', 'jack'),\n",
              " ('spades', 'queen'),\n",
              " ('clubs', 'king'),\n",
              " ('hearts', 'ace'),\n",
              " ('diamonds', '2'),\n",
              " ('spades', '3'),\n",
              " ('clubs', '4'),\n",
              " ('hearts', '5'),\n",
              " ('diamonds', '6'),\n",
              " ('spades', '7'),\n",
              " ('clubs', '8'),\n",
              " ('hearts', '9'),\n",
              " ('diamonds', '10'),\n",
              " ('spades', 'jack'),\n",
              " ('clubs', 'queen'),\n",
              " ('hearts', 'king'),\n",
              " ('diamonds', 'ace')]"
            ]
          },
          "metadata": {
            "tags": []
          },
          "execution_count": 4
        }
      ]
    },
    {
      "cell_type": "code",
      "metadata": {
        "colab": {
          "base_uri": "https://localhost:8080/"
        },
        "id": "qC7eOX2f2yuA",
        "outputId": "386e99a6-baae-4218-f9ac-5c64882121c4"
      },
      "source": [
        "\"\"\"\n",
        "Write a normal function without using lambda, zip, and map function to create 52 cards in a dec\n",
        "\"\"\"\n",
        "def func_create_cards(p_vals,p_suits):\n",
        "  cards=[]\n",
        "  for val in p_vals:\n",
        "    for suits in p_suits:\n",
        "      card=str(val)+' of '+suits\n",
        "      cards.append(card)\n",
        "  return cards\n",
        "\n",
        "cards=func_create_cards(vals,suits)\n",
        "print('lenght of crads',len(cards))\n",
        "cards[0:53]"
      ],
      "execution_count": null,
      "outputs": [
        {
          "output_type": "stream",
          "text": [
            "lenght of crads 52\n"
          ],
          "name": "stdout"
        },
        {
          "output_type": "execute_result",
          "data": {
            "text/plain": [
              "['2 of spades',\n",
              " '2 of clubs',\n",
              " '2 of hearts',\n",
              " '2 of diamonds',\n",
              " '3 of spades',\n",
              " '3 of clubs',\n",
              " '3 of hearts',\n",
              " '3 of diamonds',\n",
              " '4 of spades',\n",
              " '4 of clubs',\n",
              " '4 of hearts',\n",
              " '4 of diamonds',\n",
              " '5 of spades',\n",
              " '5 of clubs',\n",
              " '5 of hearts',\n",
              " '5 of diamonds',\n",
              " '6 of spades',\n",
              " '6 of clubs',\n",
              " '6 of hearts',\n",
              " '6 of diamonds',\n",
              " '7 of spades',\n",
              " '7 of clubs',\n",
              " '7 of hearts',\n",
              " '7 of diamonds',\n",
              " '8 of spades',\n",
              " '8 of clubs',\n",
              " '8 of hearts',\n",
              " '8 of diamonds',\n",
              " '9 of spades',\n",
              " '9 of clubs',\n",
              " '9 of hearts',\n",
              " '9 of diamonds',\n",
              " '10 of spades',\n",
              " '10 of clubs',\n",
              " '10 of hearts',\n",
              " '10 of diamonds',\n",
              " 'jack of spades',\n",
              " 'jack of clubs',\n",
              " 'jack of hearts',\n",
              " 'jack of diamonds',\n",
              " 'queen of spades',\n",
              " 'queen of clubs',\n",
              " 'queen of hearts',\n",
              " 'queen of diamonds',\n",
              " 'king of spades',\n",
              " 'king of clubs',\n",
              " 'king of hearts',\n",
              " 'king of diamonds',\n",
              " 'ace of spades',\n",
              " 'ace of clubs',\n",
              " 'ace of hearts',\n",
              " 'ace of diamonds']"
            ]
          },
          "metadata": {
            "tags": []
          },
          "execution_count": 5
        }
      ]
    },
    {
      "cell_type": "code",
      "metadata": {
        "id": "ZkPoKO4gDcJ6",
        "colab": {
          "base_uri": "https://localhost:8080/",
          "height": 53
        },
        "outputId": "4382eebe-c039-4e01-bf22-8e1d643a1a1a"
      },
      "source": [
        "'''\n",
        "Write a function that, when given 2 sets of 3 or 4 or 5 cards (1 game can only have 3 cards with each player or 4 cards or 5 cards per player) \n",
        "(1 deck of cards only), (2 players only), can identify who won the game of poker\n",
        "'''"
      ],
      "execution_count": null,
      "outputs": [
        {
          "output_type": "execute_result",
          "data": {
            "application/vnd.google.colaboratory.intrinsic+json": {
              "type": "string"
            },
            "text/plain": [
              "'\\nWrite a function that, when given 2 sets of 3 or 4 or 5 cards (1 game can only have 3 cards with each player or 4 cards or 5 cards per player) \\n(1 deck of cards only), (2 players only), can identify who won the game of poker\\n'"
            ]
          },
          "metadata": {
            "tags": []
          },
          "execution_count": 6
        }
      ]
    },
    {
      "cell_type": "code",
      "metadata": {
        "colab": {
          "base_uri": "https://localhost:8080/"
        },
        "id": "yeyeE6ahH56_",
        "outputId": "76e7987e-4bb4-4125-d162-e0bf80714f47"
      },
      "source": [
        "'''Make a dictionary which can hold the combination and the rating(values of the dict) to be awarded.\n",
        "This rating then can be compared per game for both the players and the lowest magnitude of the rating wins the game'\n",
        "'''\n",
        "combinations=['Royal Flush','Straight flush','Four of a kind','Full house','Flush','Straight','Three of a kind','Two pair','One pair','High card']\n",
        "combs_range=range(1,len(combinations))\n",
        "combs_dict=dict(zip(combinations,combs_range))\n",
        "combs_dict"
      ],
      "execution_count": null,
      "outputs": [
        {
          "output_type": "execute_result",
          "data": {
            "text/plain": [
              "{'Flush': 5,\n",
              " 'Four of a kind': 3,\n",
              " 'Full house': 4,\n",
              " 'One pair': 9,\n",
              " 'Royal Flush': 1,\n",
              " 'Straight': 6,\n",
              " 'Straight flush': 2,\n",
              " 'Three of a kind': 7,\n",
              " 'Two pair': 8}"
            ]
          },
          "metadata": {
            "tags": []
          },
          "execution_count": 7
        }
      ]
    },
    {
      "cell_type": "code",
      "metadata": {
        "colab": {
          "base_uri": "https://localhost:8080/"
        },
        "id": "4f_4UV0CDh64",
        "outputId": "fdf53be3-c6cc-4cec-9ddc-cb86592aa6b9"
      },
      "source": [
        "'''Real game starts here'''\n",
        "\n",
        "import random\n",
        "card_choices=5\n",
        "cards_to_be_pulled=card_choices*2\n",
        "draw=random.sample(cards_deck,cards_to_be_pulled)\n",
        "p1=draw[0:card_choices]\n",
        "p2=draw[card_choices:cards_to_be_pulled]\n",
        "print(p1)\n",
        "print(p2)\n",
        "#print(p1,p2)\n",
        "#cards_deck[]"
      ],
      "execution_count": null,
      "outputs": [
        {
          "output_type": "stream",
          "text": [
            "[('diamonds', '5'), ('clubs', '7'), ('clubs', '10'), ('spades', 'jack'), ('diamonds', '4')]\n",
            "[('diamonds', '6'), ('spades', '5'), ('clubs', '9'), ('hearts', '5'), ('diamonds', '9')]\n"
          ],
          "name": "stdout"
        }
      ]
    },
    {
      "cell_type": "code",
      "metadata": {
        "colab": {
          "base_uri": "https://localhost:8080/"
        },
        "id": "uOH2M-QzQflE",
        "outputId": "8632bb43-e8dd-4abf-fa89-234d09774c17"
      },
      "source": [
        "for rec in p1:\n",
        "  print(rec[0],rec[1])"
      ],
      "execution_count": null,
      "outputs": [
        {
          "output_type": "stream",
          "text": [
            "diamonds 5\n",
            "clubs 7\n",
            "clubs 10\n",
            "spades jack\n",
            "diamonds 4\n"
          ],
          "name": "stdout"
        }
      ]
    },
    {
      "cell_type": "code",
      "metadata": {
        "colab": {
          "base_uri": "https://localhost:8080/"
        },
        "id": "x_3l-g5lRaSZ",
        "outputId": "4e2ffd18-4fe8-495e-a3f3-fcc59b63509c"
      },
      "source": [
        "p1,dict(p1)"
      ],
      "execution_count": null,
      "outputs": [
        {
          "output_type": "execute_result",
          "data": {
            "text/plain": [
              "([('diamonds', '5'),\n",
              "  ('clubs', '7'),\n",
              "  ('clubs', '10'),\n",
              "  ('spades', 'jack'),\n",
              "  ('diamonds', '4')],\n",
              " {'clubs': '10', 'diamonds': '4', 'spades': 'jack'})"
            ]
          },
          "metadata": {
            "tags": []
          },
          "execution_count": 10
        }
      ]
    },
    {
      "cell_type": "code",
      "metadata": {
        "colab": {
          "base_uri": "https://localhost:8080/"
        },
        "id": "R-w9Psv4Jn1Z",
        "outputId": "d83f3268-5d7c-48e3-9dd0-f82df11965ba"
      },
      "source": [
        "{(rec[0],rec[1])for rec in p1}"
      ],
      "execution_count": null,
      "outputs": [
        {
          "output_type": "execute_result",
          "data": {
            "text/plain": [
              "{('clubs', '10'),\n",
              " ('clubs', '7'),\n",
              " ('diamonds', '4'),\n",
              " ('diamonds', '5'),\n",
              " ('spades', 'jack')}"
            ]
          },
          "metadata": {
            "tags": []
          },
          "execution_count": 11
        }
      ]
    },
    {
      "cell_type": "code",
      "metadata": {
        "colab": {
          "base_uri": "https://localhost:8080/"
        },
        "id": "tR8UAtARTQqg",
        "outputId": "5712952d-f6b3-4784-8281-5eb86261c8ac"
      },
      "source": [
        "colr_p1=[colr for colr,card in p1]\n",
        "card_p1=[card for colr,card in p1]\n",
        "col_p2=[colr for colr,card in p2]\n",
        "card_p2=[card for colr,card in p2]\n",
        "print(colr_p1,card_p1)"
      ],
      "execution_count": null,
      "outputs": [
        {
          "output_type": "stream",
          "text": [
            "['diamonds', 'clubs', 'clubs', 'spades', 'diamonds'] ['5', '7', '10', 'jack', '4']\n"
          ],
          "name": "stdout"
        }
      ]
    },
    {
      "cell_type": "code",
      "metadata": {
        "colab": {
          "base_uri": "https://localhost:8080/",
          "height": 166
        },
        "id": "2iy19lhNd3RW",
        "outputId": "ae52ca0c-c32a-40a2-cb3b-949213cd3023"
      },
      "source": [
        "is_all_royal(royals)"
      ],
      "execution_count": null,
      "outputs": [
        {
          "output_type": "error",
          "ename": "NameError",
          "evalue": "ignored",
          "traceback": [
            "\u001b[0;31m---------------------------------------------------------------------------\u001b[0m",
            "\u001b[0;31mNameError\u001b[0m                                 Traceback (most recent call last)",
            "\u001b[0;32m<ipython-input-13-af79ae585e66>\u001b[0m in \u001b[0;36m<module>\u001b[0;34m()\u001b[0m\n\u001b[0;32m----> 1\u001b[0;31m \u001b[0mis_all_royal\u001b[0m\u001b[0;34m(\u001b[0m\u001b[0mroyals\u001b[0m\u001b[0;34m)\u001b[0m\u001b[0;34m\u001b[0m\u001b[0;34m\u001b[0m\u001b[0m\n\u001b[0m",
            "\u001b[0;31mNameError\u001b[0m: name 'is_all_royal' is not defined"
          ]
        }
      ]
    },
    {
      "cell_type": "code",
      "metadata": {
        "id": "CqEQBJ5olQ64"
      },
      "source": [
        "def is_all_royal(p_cards):\n",
        "  ''' This is a function which is defined to check if all royal cards are there\n",
        "  funtion will return false if any given card is not royal'''\n",
        "  royal=True\n",
        "  for rec in p_cards:\n",
        "    if rec not in royals:\n",
        "     royal=False\n",
        "  return royal\n"
      ],
      "execution_count": null,
      "outputs": []
    },
    {
      "cell_type": "code",
      "metadata": {
        "id": "22czlYdkgnRM"
      },
      "source": [
        "def is_flush(p_cards,p_color):\n",
        "  '''This function will check if the combination is a flush or not.\n",
        "  function also checks if the flush is a royal flush or a normal flush'''\n",
        "  if (len(set(p_color))==1) & (is_all_royal(p_cards)):\n",
        "    res='Royal Flush'\n",
        "  elif (len(set(p_color))==1) & (is_all_royal(p_cards)==False):\n",
        "    res='flush'\n",
        "  else:\n",
        "    res='No flush'\n",
        "  return(res)\n",
        "                     "
      ],
      "execution_count": null,
      "outputs": []
    },
    {
      "cell_type": "code",
      "metadata": {
        "id": "P3hXkNGRu1RD"
      },
      "source": [
        "def is_staright((p_cards,p_color):\n",
        "  '''This function will check if the cards are sequential or not i,e continous and incremented by 1'''\n",
        "  "
      ],
      "execution_count": null,
      "outputs": []
    },
    {
      "cell_type": "code",
      "metadata": {
        "id": "YzMBwjJ0vEY1"
      },
      "source": [
        "lst=[1,2,3,4,5,6]"
      ],
      "execution_count": null,
      "outputs": []
    },
    {
      "cell_type": "code",
      "metadata": {
        "id": "HCNeSxniwT9R"
      },
      "source": [
        "lst=[1,2,3]"
      ],
      "execution_count": null,
      "outputs": []
    },
    {
      "cell_type": "code",
      "metadata": {
        "id": "eZ5mjfrsvUHw"
      },
      "source": [
        "l= lambda x,y:True if x+1==y else False"
      ],
      "execution_count": null,
      "outputs": []
    },
    {
      "cell_type": "code",
      "metadata": {
        "colab": {
          "base_uri": "https://localhost:8080/"
        },
        "id": "YUEwdzwQvd4h",
        "outputId": "ca61e6c8-e511-42e3-908d-b2e6df6cdd7a"
      },
      "source": [
        "from functools import reduce\n",
        "reduce(l,lst)"
      ],
      "execution_count": null,
      "outputs": [
        {
          "output_type": "execute_result",
          "data": {
            "text/plain": [
              "False"
            ]
          },
          "metadata": {
            "tags": []
          },
          "execution_count": 40
        }
      ]
    },
    {
      "cell_type": "code",
      "metadata": {
        "id": "g7k__LCwrl_6"
      },
      "source": [
        "test_cols=['diamonds', 'diamonds', 'diamonds', 'diamonds', 'diamonds']\n",
        "test_cards=['king', 'ace', 'queen', 'jack', 'ace']"
      ],
      "execution_count": null,
      "outputs": []
    },
    {
      "cell_type": "code",
      "metadata": {
        "colab": {
          "base_uri": "https://localhost:8080/"
        },
        "id": "d9UpONe3r70p",
        "outputId": "5ab10c94-46e6-43fc-e35f-58e75ae4f39c"
      },
      "source": [
        "len(set(test_cols))"
      ],
      "execution_count": null,
      "outputs": [
        {
          "output_type": "execute_result",
          "data": {
            "text/plain": [
              "1"
            ]
          },
          "metadata": {
            "tags": []
          },
          "execution_count": 17
        }
      ]
    },
    {
      "cell_type": "code",
      "metadata": {
        "colab": {
          "base_uri": "https://localhost:8080/",
          "height": 70
        },
        "id": "XcbFsP9ZrwBW",
        "outputId": "cd4cd44f-262e-43e1-b86d-aaefd507747b"
      },
      "source": [
        "is_flush(test_cards,test_cols)"
      ],
      "execution_count": null,
      "outputs": [
        {
          "output_type": "stream",
          "text": [
            "1\n",
            "True\n"
          ],
          "name": "stdout"
        },
        {
          "output_type": "execute_result",
          "data": {
            "application/vnd.google.colaboratory.intrinsic+json": {
              "type": "string"
            },
            "text/plain": [
              "'Royal Flush'"
            ]
          },
          "metadata": {
            "tags": []
          },
          "execution_count": 18
        }
      ]
    },
    {
      "cell_type": "code",
      "metadata": {
        "id": "n7wRZL8eeXyr"
      },
      "source": [
        "lst=[1,1,1,1,1]"
      ],
      "execution_count": null,
      "outputs": []
    },
    {
      "cell_type": "code",
      "metadata": {
        "colab": {
          "base_uri": "https://localhost:8080/",
          "height": 70
        },
        "id": "IXHIBXsFeFfS",
        "outputId": "2e228130-5aa5-4bdc-8fa4-224237a10a88"
      },
      "source": [
        "is_flush(test_cards,lst)"
      ],
      "execution_count": null,
      "outputs": [
        {
          "output_type": "stream",
          "text": [
            "1\n",
            "True\n"
          ],
          "name": "stdout"
        },
        {
          "output_type": "execute_result",
          "data": {
            "application/vnd.google.colaboratory.intrinsic+json": {
              "type": "string"
            },
            "text/plain": [
              "'Royal Flush'"
            ]
          },
          "metadata": {
            "tags": []
          },
          "execution_count": 22
        }
      ]
    },
    {
      "cell_type": "code",
      "metadata": {
        "id": "ulRc5CnjgnTd",
        "colab": {
          "base_uri": "https://localhost:8080/"
        },
        "outputId": "936319b6-b2f3-4b93-c079-bd33f2c50ce5"
      },
      "source": [
        "lst=['blue','blue','black','black','blue']\n",
        "import numpy as np\n",
        "a,b=np.unique(lst,return_counts=True)\n",
        "dict(zip(a,b))"
      ],
      "execution_count": null,
      "outputs": [
        {
          "output_type": "execute_result",
          "data": {
            "text/plain": [
              "{'black': 2, 'blue': 3}"
            ]
          },
          "metadata": {
            "tags": []
          },
          "execution_count": 23
        }
      ]
    }
  ]
}