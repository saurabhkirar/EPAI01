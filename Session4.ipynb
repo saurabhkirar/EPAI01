{
  "nbformat": 4,
  "nbformat_minor": 0,
  "metadata": {
    "colab": {
      "name": "Session4.ipynb",
      "provenance": [],
      "collapsed_sections": []
    },
    "kernelspec": {
      "name": "python3",
      "display_name": "Python 3"
    }
  },
  "cells": [
    {
      "cell_type": "markdown",
      "metadata": {
        "id": "RnOOVemqgLO9"
      },
      "source": [
        "Write a function that gives out average run time per call, such that it's definition is:\r\n",
        "\r\n",
        "def time_it(fn, *args, repetitons= 1, **kwargs): your code comes here.\r\n",
        "\r\n",
        "We should be able to call it like this:\r\n",
        "\r\n",
        "time_it(print, 1, 2, 3, sep='-', end= ' ***\\n'. repetitons=5)\r\n",
        "\r\n",
        "time_it(squared_power_list, 2, start=0, end=5, repetitons=5) #2 is the number you are calculating power of, [1, 2, 4, 8, 16, 32]\r\n",
        "\r\n",
        "time_it(polygon_area, 15, sides = 3, repetitons=10) # 15 is the side length. This polygon supports area calculations of upto a hexagon\r\n",
        "\r\n",
        "time_it(temp_converter, 100, temp_given_in = 'f', repetitons=100) # 100 is the base temperature given to be converted\r\n",
        "\r\n",
        "time_it(speed_converter, 100, dist='km', time='min', repetitons=200) #dist can be km/m/ft/yrd, time can be ms/s/m/hr/day, speed given by user is in kmph\r\n",
        "\r\n",
        "\r\n",
        "\r\n",
        "\r\n",
        "Evaluation\r\n",
        "expecting you to add all the test conditions to check each of the above 6 functions. All must be checked for \"basics\"\r\n",
        "if you change any character in def time_it(fn, *args, repetitons= 1, **kwargs): then 0 marks\r\n",
        "your test file must have atleast 25 tests\r\n",
        "upload to github/github-actions and then share the github URL\r\n",
        "250 for the code and 250 for the tests (code + tests getting cleared)\r\n",
        " \r\n",
        "\r\n",
        " "
      ]
    },
    {
      "cell_type": "code",
      "metadata": {
        "id": "qN00mkimfgmq"
      },
      "source": [
        "import time"
      ],
      "execution_count": null,
      "outputs": []
    },
    {
      "cell_type": "code",
      "metadata": {
        "id": "Ql9AGftzgaQN"
      },
      "source": [
        "def time_it(fn, *args,**kwargs):\r\n",
        "  if 'print' in str(fn):\r\n",
        "    return _print(*args,**kwargs)\r\n",
        "  elif 'squared_power_list'in str(fn):\r\n",
        "    return squared_power_list(*args,**kwargs)\r\n",
        "  else:\r\n",
        "    return True\r\n",
        "  #avg_runtime=0"
      ],
      "execution_count": null,
      "outputs": []
    },
    {
      "cell_type": "code",
      "metadata": {
        "id": "xD0ujZ2JGzwm"
      },
      "source": [
        "def _print(*args,**kwargs):\r\n",
        "  avg_time=0\r\n",
        "  for i in range(kwargs['repetitons']):\r\n",
        "    begin=time.perf_counter()\r\n",
        "    diff=0\r\n",
        "    total_time=0\r\n",
        "    print(*args,sep=kwargs['sep'],end=kwargs['end'])\r\n",
        "    end_time=time.perf_counter()\r\n",
        "    diff=end_time-begin\r\n",
        "    total_time+=diff\r\n",
        "  avg_time=total_time/kwargs['repetitons']\r\n",
        "  return avg_time"
      ],
      "execution_count": null,
      "outputs": []
    },
    {
      "cell_type": "code",
      "metadata": {
        "id": "XyPIGvV6IoGB"
      },
      "source": [
        "def squared_power_list(*args, **kwargs):\r\n",
        "  pow_list=[]\r\n",
        "  for i in range(kwargs['repetitons']):\r\n",
        "    begin=time.perf_counter()\r\n",
        "    diff=0\r\n",
        "    total_time=0\r\n",
        "    [pow(args[0],i) for i in range(kwargs['start'],kwargs['end'])]\r\n",
        "    end_time=time.perf_counter()\r\n",
        "    diff=end_time-begin\r\n",
        "    total_time+=diff\r\n",
        "  avg_time=total_time/kwargs['repetitons']\r\n",
        "  return avg_time"
      ],
      "execution_count": null,
      "outputs": []
    },
    {
      "cell_type": "code",
      "metadata": {
        "colab": {
          "base_uri": "https://localhost:8080/"
        },
        "id": "ajU3KO0iecJr",
        "outputId": "7c0de543-e44c-43e2-f49b-770b95893a3c"
      },
      "source": [
        "def polygon_area(*args,**kwargs):\r\n",
        "  from math import tan \r\n",
        "  for i in range(kwargs['repetitons']):\r\n",
        "    begin=time.perf_counter()\r\n",
        "    diff=0\r\n",
        "    total_time=0\r\n",
        "    A = (args[0] * args[0] * kwargs['sides']) / (4 * tan((180 / kwargs['sides']) * 3.14159 / 180))\r\n",
        "    end_time=time.perf_counter()\r\n",
        "    diff=end_time-begin\r\n",
        "    total_time+=diff\r\n",
        "  avg_time=total_time/kwargs['repetitons']\r\n",
        "  return avg_time\r\n",
        "\r\n",
        "time_it(polygon_area, 15, sides = 3, repetitons=10)"
      ],
      "execution_count": null,
      "outputs": [
        {
          "output_type": "execute_result",
          "data": {
            "text/plain": [
              "3.939967427868396e-08"
            ]
          },
          "metadata": {
            "tags": []
          },
          "execution_count": 96
        }
      ]
    },
    {
      "cell_type": "code",
      "metadata": {
        "id": "zgsqNHzyk9is"
      },
      "source": [
        "#time_it(temp_converter, 100, temp_given_in = 'f', repetitons=100) # 100 is the base temperature given to be converted\r\n",
        "def temp_converter(*args,**kwargs):\r\n",
        "  "
      ],
      "execution_count": null,
      "outputs": []
    },
    {
      "cell_type": "code",
      "metadata": {
        "id": "LqZhz8CBeZdi"
      },
      "source": [
        "def time_it(fn, *args,**kwargs):\r\n",
        "  if 'print' in str(fn):\r\n",
        "    return _print(*args,**kwargs)\r\n",
        "  elif 'squared_power_list'in str(fn):\r\n",
        "    return squared_power_list(*args,**kwargs)\r\n",
        "  elif 'polygon_area'in str(fn):\r\n",
        "    return polygon_area(*args,**kwargs)\r\n",
        "  else:\r\n",
        "    raise ValueError('please specify the correct function') \r\n",
        "  #avg_runtime=0"
      ],
      "execution_count": null,
      "outputs": []
    },
    {
      "cell_type": "code",
      "metadata": {
        "id": "SVx4GLT9k02u"
      },
      "source": [
        ""
      ],
      "execution_count": null,
      "outputs": []
    }
  ]
}