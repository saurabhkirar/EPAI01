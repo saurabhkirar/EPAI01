{
  "nbformat": 4,
  "nbformat_minor": 0,
  "metadata": {
    "colab": {
      "name": "Capstone.ipynb",
      "provenance": [],
      "authorship_tag": "ABX9TyMHBluIIlprQPcfbTrb/8+q",
      "include_colab_link": true
    },
    "kernelspec": {
      "name": "python3",
      "display_name": "Python 3"
    },
    "language_info": {
      "name": "python"
    }
  },
  "cells": [
    {
      "cell_type": "markdown",
      "metadata": {
        "id": "view-in-github",
        "colab_type": "text"
      },
      "source": [
        "<a href=\"https://colab.research.google.com/github/saurabhkirar/EPAI01/blob/main/Capstone/Codes/Capstone.ipynb\" target=\"_parent\"><img src=\"https://colab.research.google.com/assets/colab-badge.svg\" alt=\"Open In Colab\"/></a>"
      ]
    },
    {
      "cell_type": "code",
      "metadata": {
        "id": "42W5Bbh0-ISj"
      },
      "source": [
        "## start of the project."
      ],
      "execution_count": null,
      "outputs": []
    },
    {
      "cell_type": "code",
      "metadata": {
        "colab": {
          "base_uri": "https://localhost:8080/"
        },
        "id": "3JmsD6cRy3q1",
        "outputId": "ef7579fe-917e-432d-85d1-d99fba400ff5"
      },
      "source": [
        "from google.colab import drive\n",
        "drive.mount('/content/drive/')"
      ],
      "execution_count": null,
      "outputs": [
        {
          "output_type": "stream",
          "text": [
            "Mounted at /content/drive/\n"
          ],
          "name": "stdout"
        }
      ]
    },
    {
      "cell_type": "code",
      "metadata": {
        "id": "AUrsTikWdAXE"
      },
      "source": [
        "import cv2\n",
        "import smtplib\n",
        "from PIL import Image, ImageDraw, ImageFont\n",
        "from datetime import date\n",
        "import os\n",
        "import validation\n",
        "import email, smtplib, ssl\n",
        "from email import encoders\n",
        "from email.mime.base import MIMEBase\n",
        "from email.mime.multipart import MIMEMultipart\n",
        "from email.mime.text import MIMEText"
      ],
      "execution_count": null,
      "outputs": []
    },
    {
      "cell_type": "code",
      "metadata": {
        "id": "YJ8MBkyjBaC6"
      },
      "source": [
        "import os\n",
        "project_path='/content/drive/MyDrive/EPAI/Capstone/Codes/'\n",
        "image_path='/content/drive/MyDrive/EPAI/Capstone/Data/'\n",
        "out_path='/content/drive/MyDrive/EPAI/Capstone/Out/'\n",
        "Image_name=image_path+'Cert.jpg'\n",
        "sender_email='souravkirar@gmail.com'\n",
        "subject = \"Congratutations on course completion!!\"\n",
        "os.chdir(project_path)"
      ],
      "execution_count": null,
      "outputs": []
    },
    {
      "cell_type": "code",
      "metadata": {
        "id": "LGwxpppopLq-"
      },
      "source": [
        "## Class to load the data from the csv file."
      ],
      "execution_count": null,
      "outputs": []
    },
    {
      "cell_type": "code",
      "metadata": {
        "id": "aFDBF8qPYJd9"
      },
      "source": [
        "def create_or_locate_cert(p_course,p_name,p_recreate=False):\n",
        "\n",
        "    '''This functions creates the certificate for a given user and the course \n",
        "     and stores the certificates in the out directory\n",
        "     If for a user and the course the certificate already exists then the function fectes the certificate \n",
        "     from the out directory and returns the cert, if not then fuction goes on to make a new certificate\n",
        "     '''\n",
        "    course = p_course\n",
        "    name = p_name\n",
        "    color = 'rgb(0, 0, 0)' # black color\n",
        "       # if exists and overwrite is False simply return with certificate path\n",
        "    img=out_path+name+course+'cert.jpg'\n",
        "    if (not p_recreate) and (os.path.exists(img)):\n",
        "            print(f'Certificate already exists,resending')\n",
        "            return img\n",
        "\n",
        "    # create Image object with the input image\n",
        "    image = Image.open(Image_name)\n",
        "    # initialise the drawing context with the image object as background\n",
        "    draw = ImageDraw.Draw(image)\n",
        "    # create font object with the font file and specify desired size   \n",
        "    font_course = ImageFont.truetype(\"/usr/share/fonts/truetype/liberation/LiberationSansNarrow-Bold.ttf\", size=20)\n",
        "    # starting position of the message\n",
        "    (x, y) = (450, 270)\n",
        "    # draw the message on the background\n",
        "    draw.text((x, y), course, fill=color,font=font_course)\n",
        "\n",
        "    font_name = ImageFont.truetype(\"/usr/share/fonts/truetype/liberation/LiberationSansNarrow-Bold.ttf\", size=30)\n",
        "    (x, y) = (450, 420)\n",
        "    draw.text((x, y), name, fill=color,font=font_name)\n",
        "\n",
        "\n",
        "    font_date = ImageFont.truetype(\"/usr/share/fonts/truetype/liberation/LiberationSansNarrow-Bold.ttf\", size=30)\n",
        "    (x, y) = (235, 500)\n",
        "    today = date.today()\n",
        "    today=str(today)\n",
        "    draw.text((x, y), today, fill=color,font=font_name)\n",
        "\n",
        "    font_sign = ImageFont.truetype(\"/usr/share/fonts/truetype/liberation/LiberationSansNarrow-Bold.ttf\", size=30)\n",
        "    (x, y) = (650, 500)\n",
        "    admin_name = 'School of AI'\n",
        "    draw.text((x, y), admin_name, fill=color,font=font_name)\n",
        "    \n",
        "    # save the edited image\n",
        "    img=out_path+name+course+'cert.jpg'\n",
        "\n",
        "    image.save(img)\n",
        "\n",
        "    #I=cv2.imread(img)\n",
        "    #plt.imshow(I)\n",
        "    \n",
        "    return img"
      ],
      "execution_count": null,
      "outputs": []
    },
    {
      "cell_type": "code",
      "metadata": {
        "id": "HdmU2aPWaSgM"
      },
      "source": [
        "@validation.logging_decorator()\n",
        "@validation.internet_check_decorator()\n",
        "#@validation.is_authenticated(p_user_name,)\n",
        "def send_certificate(p_receiver_email,p_key,p_user_name,p_course_name,p_score,p_total,p_recreate=False):\n",
        "  '''This is a function which will send the certificate and can be called with the below params\n",
        "  p_receiver_email-> Receiver email address.\n",
        "  p_key-> Password for email account (sender)\n",
        "  p_user-> User to whom the certificate should go\n",
        "  p_course_name-> the name of the course for which the certs are being awarded\n",
        "  p_score/p_total -> marks obtained/total marks\n",
        "  p_recreate->Re create the certficiate even if it exists(chances of correction)\n",
        "  '''\n",
        "  receiver_email = p_receiver_email\n",
        "  password = p_key\n",
        "     # Create a multipart message and set headers\n",
        "  message = MIMEMultipart()\n",
        "  message[\"From\"] = sender_email\n",
        "  message[\"To\"] = receiver_email\n",
        "  message[\"Subject\"] = subject\n",
        "  message[\"Bcc\"] = receiver_email  # Recommended for mass emails\n",
        "\n",
        "  body='''\n",
        "        Dear {name},\n",
        "\n",
        "        Congratulations!\n",
        "\n",
        "        You have cleared the {course_name} with {score} marks out of {total} marks!\n",
        "        We are excited to share the attached Award of Excellence for your performance!\n",
        "\n",
        "        Regards\n",
        "        '''.format(name=p_user_name,course_name=p_course_name,score=p_score,total=p_total)\n",
        "\n",
        " # Add body to email\n",
        "  message.attach(MIMEText(body, \"plain\"))\n",
        "\n",
        "  #filename = \"BroadBandAug20.pdf\"  # In same directory as script\n",
        "  filename=create_or_locate_cert(p_course_name,p_user_name,p_recreate)\n",
        "\n",
        "  with open(filename, \"rb\") as attachment:\n",
        "    # Add file as application/octet-stream\n",
        "    # Email client can usually download this automatically as attachment\n",
        "    part = MIMEBase(\"application\", \"octet-stream\")\n",
        "    part.set_payload(attachment.read())\n",
        "\n",
        "  # Encode file in ASCII characters to send by email    \n",
        "  encoders.encode_base64(part)\n",
        "\n",
        "  # Add header as key/value pair to attachment part\n",
        "  part.add_header(\n",
        "      \"Content-Disposition\",\n",
        "      f\"attachment; filename= {filename}\",\n",
        "  )\n",
        "\n",
        "  # Add attachment to message and convert message to string\n",
        "  message.attach(part)\n",
        "  text = message.as_string()\n",
        "\n",
        "  # Log in to server using secure context and send email\n",
        "  context = ssl.create_default_context()\n",
        "  with smtplib.SMTP_SSL(\"smtp.gmail.com\", 465, context=context) as server:\n",
        "      server.login(sender_email, password)\n",
        "      server.sendmail(sender_email, receiver_email, text)"
      ],
      "execution_count": null,
      "outputs": []
    },
    {
      "cell_type": "code",
      "metadata": {
        "id": "zMUo3DivYi2Z",
        "colab": {
          "base_uri": "https://localhost:8080/"
        },
        "outputId": "195f2cdb-d2fb-4f39-8a65-fb3d7678a1f2"
      },
      "source": [
        "send_certificate('saurabh.kirar09@gmail.com','Pwd@gmailold2210','Saurabh Kirar','EPAI',98,100)"
      ],
      "execution_count": null,
      "outputs": [
        {
          "output_type": "stream",
          "text": [
            "Certificate already exists,resending\n"
          ],
          "name": "stdout"
        }
      ]
    }
  ]
}