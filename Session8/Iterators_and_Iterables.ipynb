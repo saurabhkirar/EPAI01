{
  "nbformat": 4,
  "nbformat_minor": 0,
  "metadata": {
    "colab": {
      "name": "Iterators and Iterables.ipynb",
      "provenance": [],
      "authorship_tag": "ABX9TyPkdwbpDxhjuoiiSLifAOIh",
      "include_colab_link": true
    },
    "kernelspec": {
      "name": "python3",
      "display_name": "Python 3"
    },
    "language_info": {
      "name": "python"
    }
  },
  "cells": [
    {
      "cell_type": "markdown",
      "metadata": {
        "id": "view-in-github",
        "colab_type": "text"
      },
      "source": [
        "<a href=\"https://colab.research.google.com/github/saurabhkirar/EPAI01/blob/main/Session8/Iterators_and_Iterables.ipynb\" target=\"_parent\"><img src=\"https://colab.research.google.com/assets/colab-badge.svg\" alt=\"Open In Colab\"/></a>"
      ]
    },
    {
      "cell_type": "code",
      "metadata": {
        "id": "BnkkOznt3Oli"
      },
      "source": [
        "##Iterators and Iterables"
      ],
      "execution_count": null,
      "outputs": []
    }
  ]
}